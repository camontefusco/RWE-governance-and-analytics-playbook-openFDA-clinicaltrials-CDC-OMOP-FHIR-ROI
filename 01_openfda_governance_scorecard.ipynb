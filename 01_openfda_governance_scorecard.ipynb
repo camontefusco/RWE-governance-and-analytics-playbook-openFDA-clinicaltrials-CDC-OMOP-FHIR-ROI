{
 "cells": [
  {
   "cell_type": "markdown",
   "id": "1cfe8985",
   "metadata": {},
   "source": [
    "# OpenFDA → RWE Governance Scorecard (Demo)\n",
    "\n",
    "This notebook pulls a small sample from the **OpenFDA** API (drug adverse events), computes\n",
    "basic governance/quality metrics, and renders a **scorecard**. It is intentionally simple to\n",
    "communicate strategic governance concepts with a credible, runnable example.\n",
    "\n",
    "**Note:** Internet access is required to fetch data from the API.\n"
   ]
  },
  {
   "cell_type": "code",
   "execution_count": 2,
   "id": "07648fb3",
   "metadata": {},
   "outputs": [
    {
     "ename": "ModuleNotFoundError",
     "evalue": "No module named 'scripts'",
     "output_type": "error",
     "traceback": [
      "\u001b[0;31m---------------------------------------------------------------------------\u001b[0m",
      "\u001b[0;31mModuleNotFoundError\u001b[0m                       Traceback (most recent call last)",
      "Cell \u001b[0;32mIn[2], line 5\u001b[0m\n\u001b[1;32m      2\u001b[0m \u001b[38;5;28;01mfrom\u001b[39;00m \u001b[38;5;21;01mpathlib\u001b[39;00m \u001b[38;5;28;01mimport\u001b[39;00m Path\n\u001b[1;32m      3\u001b[0m \u001b[38;5;28;01mimport\u001b[39;00m \u001b[38;5;21;01mmatplotlib\u001b[39;00m\u001b[38;5;21;01m.\u001b[39;00m\u001b[38;5;21;01mpyplot\u001b[39;00m \u001b[38;5;28;01mas\u001b[39;00m \u001b[38;5;21;01mplt\u001b[39;00m\n\u001b[0;32m----> 5\u001b[0m \u001b[38;5;28;01mfrom\u001b[39;00m \u001b[38;5;21;01mscripts\u001b[39;00m\u001b[38;5;21;01m.\u001b[39;00m\u001b[38;5;21;01mscorecard\u001b[39;00m \u001b[38;5;28;01mimport\u001b[39;00m compute_basic_metrics, score, plot_scorecard\n\u001b[1;32m      7\u001b[0m pd\u001b[38;5;241m.\u001b[39mset_option(\u001b[38;5;124m'\u001b[39m\u001b[38;5;124mdisplay.max_columns\u001b[39m\u001b[38;5;124m'\u001b[39m, \u001b[38;5;241m50\u001b[39m)\n\u001b[1;32m      8\u001b[0m \u001b[38;5;28mprint\u001b[39m(\u001b[38;5;124m'\u001b[39m\u001b[38;5;124mSetup complete.\u001b[39m\u001b[38;5;124m'\u001b[39m)\n",
      "\u001b[0;31mModuleNotFoundError\u001b[0m: No module named 'scripts'"
     ]
    }
   ],
   "source": [
    "import os, json, requests, pandas as pd, numpy as np\n",
    "from pathlib import Path\n",
    "import matplotlib.pyplot as plt\n",
    "\n",
    "from scripts.scorecard import compute_basic_metrics, score, plot_scorecard\n",
    "\n",
    "pd.set_option('display.max_columns', 50)\n",
    "print('Setup complete.')"
   ]
  },
  {
   "cell_type": "markdown",
   "id": "44b490e3",
   "metadata": {},
   "source": [
    "## 1) Fetch data from OpenFDA API\n",
    "\n",
    "We request a small sample of **drug adverse events**. Endpoint docs: https://api.fda.gov/drug/event.json\n",
    "\n",
    "You can change the `search` and `limit` parameters to explore different products or time windows.\n"
   ]
  },
  {
   "cell_type": "code",
   "execution_count": null,
   "id": "535062ac",
   "metadata": {},
   "outputs": [],
   "source": [
    "BASE = 'https://api.fda.gov/drug/event.json'\n",
    "params = {\n",
    "    'search': 'receivedate:[20240101+TO+20251231]',\n",
    "    'limit': 100\n",
    "}\n",
    "r = requests.get(BASE, params=params, timeout=30)\n",
    "r.raise_for_status()\n",
    "payload = r.json()\n",
    "len(payload.get('results', [])), list(payload.keys())"
   ]
  },
  {
   "cell_type": "markdown",
   "id": "fb49c33a",
   "metadata": {},
   "source": [
    "## 2) Normalize to a tabular view\n",
    "\n",
    "OpenFDA returns nested JSON. We extract a few commonly available fields for governance checks.\n"
   ]
  },
  {
   "cell_type": "code",
   "execution_count": null,
   "id": "04efb6b8",
   "metadata": {},
   "outputs": [],
   "source": [
    "results = payload.get('results', [])\n",
    "def flatten(rec):\n",
    "    return {\n",
    "        'safetyreportid': rec.get('safetyreportid'),\n",
    "        'receiptdate': rec.get('receiptdate'),\n",
    "        'receivedate': rec.get('receivedate'),\n",
    "        'occurcountry': rec.get('occurcountry'),\n",
    "        'serious': rec.get('serious'),\n",
    "        'senderorganization': rec.get('sender', {}).get('senderorganization') if isinstance(rec.get('sender'), dict) else None,\n",
    "        'companynumb': rec.get('companynumb'),\n",
    "    }\n",
    "\n",
    "df = pd.DataFrame([flatten(r) for r in results])\n",
    "df.head()"
   ]
  },
  {
   "cell_type": "markdown",
   "id": "1b71e902",
   "metadata": {},
   "source": [
    "## 3) Compute governance/quality metrics and an overall score\n",
    "\n",
    "These are illustrative metrics only; refine as needed for your organization and data model.\n"
   ]
  },
  {
   "cell_type": "code",
   "execution_count": null,
   "id": "5d129375",
   "metadata": {},
   "outputs": [],
   "source": [
    "required_fields = ['safetyreportid','receiptdate','occurcountry','serious']\n",
    "metrics = compute_basic_metrics(df, required_fields)\n",
    "overall = score(metrics)\n",
    "metrics, overall"
   ]
  },
  {
   "cell_type": "markdown",
   "id": "88b3007e",
   "metadata": {},
   "source": [
    "## 4) Plot scorecard"
   ]
  },
  {
   "cell_type": "code",
   "execution_count": null,
   "id": "1d80dede",
   "metadata": {},
   "outputs": [],
   "source": [
    "plot_scorecard(metrics)"
   ]
  },
  {
   "cell_type": "markdown",
   "id": "b3a97957",
   "metadata": {},
   "source": [
    "## 5) Save artifacts (optional)\n",
    "\n",
    "Cache raw JSON and the flattened CSV locally to `data/`.\n"
   ]
  },
  {
   "cell_type": "code",
   "execution_count": null,
   "id": "950093ed",
   "metadata": {},
   "outputs": [],
   "source": [
    "Path('data').mkdir(exist_ok=True)\n",
    "(Path('data') / 'openfda_sample.json').write_text(json.dumps(payload, indent=2))\n",
    "df.to_csv('data/openfda_flat.csv', index=False)\n",
    "print('Saved data/openfda_sample.json and data/openfda_flat.csv')"
   ]
  },
  {
   "cell_type": "markdown",
   "id": "bd66d4e8",
   "metadata": {},
   "source": [
    "## Next steps\n",
    "- Extend metrics: OMOP/FHIR conformity checks, vocabulary coverage (RxNorm, SNOMED), negative controls.\n",
    "- Add jurisdiction-aware compliance flags (e.g., GDPR, HIPAA proxies).\n",
    "- Create a portfolio dashboard comparing multiple sources/time windows.\n"
   ]
  }
 ],
 "metadata": {
  "kernelspec": {
   "display_name": "Python [conda env:base] *",
   "language": "python",
   "name": "conda-base-py"
  },
  "language_info": {
   "codemirror_mode": {
    "name": "ipython",
    "version": 3
   },
   "file_extension": ".py",
   "mimetype": "text/x-python",
   "name": "python",
   "nbconvert_exporter": "python",
   "pygments_lexer": "ipython3",
   "version": "3.12.7"
  }
 },
 "nbformat": 4,
 "nbformat_minor": 5
}
