{
 "cells": [
  {
   "cell_type": "markdown",
   "id": "c17c502d-8ab3-48af-99a8-2f779eec3aca",
   "metadata": {},
   "source": [
    "# CDC API → Public Health Signals into RWE Governance\n",
    "\n",
    "This notebook demonstrates pulling **CDC open data** (example: COVID-19 state-level cases)\n",
    "to showcase how public health signals can be incorporated into **RWE governance** (e.g., timeliness, completeness)."
   ]
  },
  {
   "cell_type": "code",
   "execution_count": null,
   "id": "55269fce-67fb-4bfb-bee8-3a41727d57a8",
   "metadata": {},
   "outputs": [],
   "source": [
    "import pandas as pd, numpy as np, requests, matplotlib.pyplot as plt\n",
    "from datetime import datetime\n",
    "\n",
    "print(\"Setup complete.\")"
   ]
  },
  {
   "cell_type": "markdown",
   "id": "ed5604b7-1f06-4b5e-853f-28d1cada4f9b",
   "metadata": {},
   "source": [
    "## 1) Fetch CDC data via Socrata API\n",
    "\n",
    "Endpoint example: `https://data.cdc.gov/resource/9mfq-cb36.json` (COVID-19 Case Surveillance)."
   ]
  },
  {
   "cell_type": "code",
   "execution_count": null,
   "id": "ed24c380-3d21-46f9-8f8d-263922bfa920",
   "metadata": {},
   "outputs": [],
   "source": [
    "URL = \"https://data.cdc.gov/resource/9mfq-cb36.json\"\n",
    "params = {\"$limit\": 5000, \"$select\": \"submission_date,state,tot_cases,conf_cases,prob_cases,new_case\"}\n",
    "r = requests.get(URL, params=params, timeout=30)\n",
    "r.raise_for_status()\n",
    "raw = r.json()\n",
    "len(raw)"
   ]
  },
  {
   "cell_type": "markdown",
   "id": "e1ab0206-ab48-4c04-afef-dd6b7a08ff6d",
   "metadata": {},
   "source": [
    "## 2) Basic quality/timeliness checks"
   ]
  },
  {
   "cell_type": "code",
   "execution_count": null,
   "id": "e70c91e2-51c8-4b2c-97d4-81398c5ea3e7",
   "metadata": {},
   "outputs": [],
   "source": [
    "df = pd.DataFrame(raw)\n",
    "df['submission_date'] = pd.to_datetime(df['submission_date'], errors='coerce')\n",
    "for col in ['tot_cases','conf_cases','prob_cases','new_case']:\n",
    "    df[col] = pd.to_numeric(df[col], errors='coerce')\n",
    "df.head()"
   ]
  },
  {
   "cell_type": "code",
   "execution_count": null,
   "id": "85e53094-e03d-4387-8556-aa2232e46839",
   "metadata": {},
   "outputs": [],
   "source": [
    "timeliness = (df['submission_date'] >= (pd.Timestamp.utcnow() - pd.Timedelta(days=14))).mean()\n",
    "completeness = df[['tot_cases','conf_cases','prob_cases','new_case']].notna().mean().mean()\n",
    "timeliness, completeness"
   ]
  },
  {
   "cell_type": "code",
   "execution_count": null,
   "id": "6b74cc2b-9e28-4b14-aa7f-7cf5ce7bbb6a",
   "metadata": {},
   "outputs": [],
   "source": [
    "daily = df.groupby('submission_date')['new_case'].sum().dropna()\n",
    "fig, ax = plt.subplots()\n",
    "ax.plot(daily.index, daily.values)\n",
    "ax.set_title(\"New Cases Over Time (CDC example)\")\n",
    "plt.tight_layout()"
   ]
  },
  {
   "cell_type": "markdown",
   "id": "1d9fe463-b03d-4ce7-9f93-c3ff870fb3dd",
   "metadata": {},
   "source": [
    "*Next:* Join CDC signals with trial geographies to inform enrollment feasibility or external control calibration, and feed into the governance scorecard."
   ]
  }
 ],
 "metadata": {
  "kernelspec": {
   "display_name": "Python [conda env:base] *",
   "language": "python",
   "name": "conda-base-py"
  },
  "language_info": {
   "codemirror_mode": {
    "name": "ipython",
    "version": 3
   },
   "file_extension": ".py",
   "mimetype": "text/x-python",
   "name": "python",
   "nbconvert_exporter": "python",
   "pygments_lexer": "ipython3",
   "version": "3.12.7"
  }
 },
 "nbformat": 4,
 "nbformat_minor": 5
}
