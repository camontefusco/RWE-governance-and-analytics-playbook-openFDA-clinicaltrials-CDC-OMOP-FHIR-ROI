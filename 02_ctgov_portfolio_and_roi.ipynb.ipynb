{
 "cells": [
  {
   "cell_type": "markdown",
   "id": "2d5208d4-32db-4f4b-b558-c69f3000aa36",
   "metadata": {},
   "source": [
    "# ClinicalTrials.gov API → Portfolio Context & ROI Scenarios\n",
    "\n",
    "This notebook fetches **trial metadata** from ClinicalTrials.gov and demonstrates how to:\n",
    "1. Build a **portfolio view** (counts, statuses, durations)  \n",
    "2. Feed **ROI scenarios** (e.g., external control arms) using the `scripts/roi.py` model.\n",
    "\n",
    "> Uses the *StudyFields* endpoint for broad coverage; you can switch to v2 API if preferred."
   ]
  },
  {
   "cell_type": "code",
   "execution_count": null,
   "id": "81f0d4f8-5904-42d5-a91c-3b564b6f6549",
   "metadata": {},
   "outputs": [],
   "source": [
    "import requests, pandas as pd, numpy as np\n",
    "from datetime import datetime\n",
    "from scripts.roi import TrialScenario, roi_summary\n",
    "import matplotlib.pyplot as plt\n",
    "\n",
    "pd.set_option('display.max_columns', 50)\n",
    "print(\"Setup complete.\")"
   ]
  },
  {
   "cell_type": "markdown",
   "id": "5859ebc8-399c-4467-9f57-957d267dd647",
   "metadata": {},
   "source": [
    "## 1) Fetch trials by condition/keyword\n",
    "\n",
    "Adjust `expr` to your TA of interest (e.g., oncology)."
   ]
  },
  {
   "cell_type": "code",
   "execution_count": null,
   "id": "7f62f765-c109-4fb6-abce-f4753bef9d2c",
   "metadata": {},
   "outputs": [],
   "source": [
    "BASE = \"https://clinicaltrials.gov/api/query/study_fields\"\n",
    "params = {\n",
    "    \"expr\": \"oncology\",  # change as needed\n",
    "    \"fields\": \"NCTId,Condition,OverallStatus,StartDate,CompletionDate,StudyType,Phase,EnrollmentCount\",\n",
    "    \"min_rnk\": 1,\n",
    "    \"max_rnk\": 300,\n",
    "    \"fmt\": \"json\"\n",
    "}\n",
    "r = requests.get(BASE, params=params, timeout=30)\n",
    "r.raise_for_status()\n",
    "data = r.json()[\"StudyFieldsResponse\"][\"StudyFields\"]\n",
    "len(data)"
   ]
  },
  {
   "cell_type": "markdown",
   "id": "0ebf9258-2976-46df-bfec-a3b0151bce5f",
   "metadata": {},
   "source": [
    "## 2) Normalize + derive durations"
   ]
  },
  {
   "cell_type": "code",
   "execution_count": null,
   "id": "9c6baf1c-b451-44ed-b8b7-d06afde99d84",
   "metadata": {},
   "outputs": [],
   "source": [
    "def first(x): return x[0] if isinstance(x, list) and x else None\n",
    "def to_dt(s):\n",
    "    if s is None: return None\n",
    "    for fmt in (\"%B %Y\", \"%Y-%m\", \"%Y-%m-%d\", \"%Y\"):\n",
    "        try:\n",
    "            return datetime.strptime(s, fmt)\n",
    "        except Exception:\n",
    "            pass\n",
    "    return None\n",
    "\n",
    "rows = []\n",
    "for rec in data:\n",
    "    start = to_dt(first(rec.get(\"StartDate\")))\n",
    "    comp = to_dt(first(rec.get(\"CompletionDate\")))\n",
    "    dur_m = (comp - start).days/30.4 if (start and comp) else None\n",
    "    rows.append({\n",
    "        \"nctid\": first(rec.get(\"NCTId\")),\n",
    "        \"condition\": first(rec.get(\"Condition\")),\n",
    "        \"status\": first(rec.get(\"OverallStatus\")),\n",
    "        \"study_type\": first(rec.get(\"StudyType\")),\n",
    "        \"phase\": first(rec.get(\"Phase\")),\n",
    "        \"enrollment\": (int(first(rec.get(\"EnrollmentCount\"))) if first(rec.get(\"EnrollmentCount\")) else None),\n",
    "        \"start\": start, \"completion\": comp, \"duration_months\": dur_m\n",
    "    })\n",
    "df = pd.DataFrame(rows)\n",
    "df.head()"
   ]
  },
  {
   "cell_type": "markdown",
   "id": "ba9d311b-6369-49dc-8a90-c4c11565c79d",
   "metadata": {},
   "source": [
    "## 3) Portfolio view"
   ]
  },
  {
   "cell_type": "code",
   "execution_count": null,
   "id": "5ec16a0b-485f-4957-98fb-16ee7ca8efce",
   "metadata": {},
   "outputs": [],
   "source": [
    "status_counts = df['status'].value_counts(dropna=False).sort_values(ascending=False)\n",
    "status_counts"
   ]
  },
  {
   "cell_type": "code",
   "execution_count": null,
   "id": "13c4f4d7-8269-4b95-a896-a49ac8d12e8e",
   "metadata": {},
   "outputs": [],
   "source": [
    "fig, ax = plt.subplots()\n",
    "ax.bar(status_counts.index.astype(str), status_counts.values)\n",
    "ax.set_title(\"Trial Status Distribution\")\n",
    "ax.tick_params(axis='x', rotation=45)\n",
    "plt.tight_layout()"
   ]
  },
  {
   "cell_type": "markdown",
   "id": "2ea37743-f363-4a14-8a12-3c314f854b85",
   "metadata": {},
   "source": [
    "## 4) ROI scenario (illustrative)\n",
    "\n",
    "We take median enrollment and duration to seed an ROI scenario."
   ]
  },
  {
   "cell_type": "code",
   "execution_count": null,
   "id": "efb15ec2-69f6-4159-af7a-e0290e53a94f",
   "metadata": {},
   "outputs": [],
   "source": [
    "med_enroll = int(df['enrollment'].dropna().median()) if df['enrollment'].notna().any() else 300\n",
    "med_duration = float(df['duration_months'].dropna().median()) if df['duration_months'].notna().any() else 36.0\n",
    "\n",
    "trial = TrialScenario(\n",
    "    baseline_duration_months = med_duration,\n",
    "    patients_treatment = med_enroll//2,\n",
    "    patients_control = med_enroll//2,\n",
    "    cost_per_patient_usd = 50000,\n",
    "    prob_reg_accept_rwe = 0.65,\n",
    "    prob_reg_accept_trad = 0.55,\n",
    "    discount_rate_annual = 0.10,\n",
    "    monthly_benefit_usd = 5_000_000\n",
    ")\n",
    "res = roi_summary(trial, months_saved_with_rwe=6)\n",
    "res"
   ]
  },
  {
   "cell_type": "code",
   "execution_count": null,
   "id": "a3318a88-4e73-4bc6-83e2-65eceebacce1",
   "metadata": {},
   "outputs": [],
   "source": [
    "fig, ax = plt.subplots()\n",
    "labels = [\"Direct Savings\", \"Time Benefit\", \"EV Uplift\"]\n",
    "values = [res[\"savings\"], res[\"discounted_benefit\"], res[\"ev_uplift\"]]\n",
    "ax.bar(labels, values)\n",
    "ax.set_title(\"Benefit Components (USD)\")\n",
    "for i, v in enumerate(values):\n",
    "    ax.text(i, v, f\"{int(v):,}\", ha=\"center\", va=\"bottom\", rotation=90)\n",
    "plt.tight_layout()"
   ]
  },
  {
   "cell_type": "markdown",
   "id": "89cf3139-be9d-4aaa-a1c6-eb3eda7ad598",
   "metadata": {},
   "source": [
    "*Next:* switch `expr` to your priority TA, stratify by phase, and compare scenarios across geographies or sponsors."
   ]
  }
 ],
 "metadata": {
  "kernelspec": {
   "display_name": "Python [conda env:base] *",
   "language": "python",
   "name": "conda-base-py"
  },
  "language_info": {
   "codemirror_mode": {
    "name": "ipython",
    "version": 3
   },
   "file_extension": ".py",
   "mimetype": "text/x-python",
   "name": "python",
   "nbconvert_exporter": "python",
   "pygments_lexer": "ipython3",
   "version": "3.12.7"
  }
 },
 "nbformat": 4,
 "nbformat_minor": 5
}
